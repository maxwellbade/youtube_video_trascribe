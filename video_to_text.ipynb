{
 "cells": [
  {
   "cell_type": "markdown",
   "metadata": {},
   "source": [
    "# Full Program"
   ]
  },
  {
   "cell_type": "code",
   "execution_count": null,
   "metadata": {},
   "outputs": [],
   "source": [
    "#libraries\n",
    "import subprocess\n",
    "from ibm_watson import SpeechToTextV1\n",
    "from ibm_watson.websocket import RecognizeCallback, AudioSource\n",
    "from ibm_cloud_sdk_core.authenticators import IAMAuthenticator\n",
    "import glob\n",
    "import pandas as pd"
   ]
  },
  {
   "cell_type": "code",
   "execution_count": 51,
   "metadata": {},
   "outputs": [
    {
     "data": {
      "text/plain": [
       "\"The reality is.\\nI mean it is like and I'm not being I'm not being flip about it like.\\nI don't understand very complicated things.\\nAnd so I ask a lot of questions so that the person who's telling me something complicated who's talking in terms of if I understand that Sir finance or neuroscience I don't know what you're talking about and asking of questions just so that I understand what you're saying this no that's what I'm saying well what are you though I I would most I mean I'll give you a perfect example so a long time ago I had a client they were %HESITATION %HESITATION %HESITATION.\\nPublic company and %HESITATION.\\nThey brought me on.\\n%HESITATION.\\nTo do some work for them but the the.\\nThey invited me to sit in on a meeting from the console but they're hired.\\n%HESITATION.\\nAnd so all the C. level executives and me.\\nAnd this.\\nSomething was giving a presentation about something related to your marketing this when I have my little marketing company and every all the C. level executives in there nodding and taking notes on the on the you know the power point that they had printed up in front of them and I had it is with this well and I didn't understand a friggin word of it yeah right I was like looking around like yeah I'm.\\nThat I because I raise my head is that I'm really really sorry I know I'm the only person in this room without an MBA but this doesn't make sense like you say eight plus B. equals C. but based on your logic it was because D. I. can you just say it again because I'm really really sorry to slow the meeting that everybody you know and you could see the consultant getting frustrated with me we're trying explain it again I said I am so sorry and one by one well the C. level executives said yeah I don't understand it either not the idiot hadn't spoken up yeah is that I understand they will would not at their head yeah for fear of looking stupid because they don't understand yeah and it would have the people paid a lot of money for talking and they don't understand and they would never use it what is that on the shelf.\\n%HESITATION and it's it's because I'm I'm okay being the idiot like me that's why I'm not being flip I locate everybody in the room and %HESITATION because I have to ask questions until I understand it but the reality is is once I can get to the point where I understand it I get it so simple that I understand if I can say it in simple terms that means other people understand %HESITATION yeah so if there's a lot of value big media.\\n\""
      ]
     },
     "execution_count": 51,
     "metadata": {},
     "output_type": "execute_result"
    }
   ],
   "source": [
    "#function to transcribe text from video (youtube video for this function)\n",
    "apikey = 'rjwTk8dhBpG-pTXtxSloybSpUrNJKp-alF244bZr08vL'\n",
    "url = 'https://api.us-south.speech-to-text.watson.cloud.ibm.com/instances/7cadc1ce-5f74-401d-bb98-c9e210ab6abf'\n",
    "youtube_vid_url = 'https://www.youtube.com/watch?v=VWOFuLGKH2E'\n",
    "\n",
    "def transcribe_video(apikey,url,youtube_vid_url):\n",
    "    #Libraries imported\n",
    "    import subprocess\n",
    "    from ibm_watson import SpeechToTextV1\n",
    "    from ibm_watson.websocket import RecognizeCallback, AudioSource\n",
    "    from ibm_cloud_sdk_core.authenticators import IAMAuthenticator\n",
    "\n",
    "    #YouTube vid downloaded\n",
    "    command = 'ffmpeg -i youtube_vid.mp4 -ab 160k -ar 44100 -vn audio1.wav'\n",
    "    subprocess.call(command, shell=True)\n",
    "\n",
    "    #Variables established for api, video and ibm url\n",
    "    apikey = apikey\n",
    "    url = url\n",
    "    youtube_vid_url = youtube_vid_url\n",
    "    youtube_vid = !youtube-dl youtube_vid_url\n",
    "\n",
    "    # Setup service iam and speech to text ibm\n",
    "    authenticator = IAMAuthenticator(apikey)\n",
    "    stt = SpeechToTextV1(authenticator=authenticator)\n",
    "    stt.set_service_url(url)\n",
    "\n",
    "    #Audio file imported\n",
    "    with open('audio1.wav', 'rb') as f:\n",
    "        res = stt.recognize(audio=f, content_type='audio/wav', model='en-US_NarrowbandModel', continuous=True).get_result()\n",
    "\n",
    "    #Text variable with text created\n",
    "    text = [result['alternatives'][0]['transcript'].rstrip() + '.\\n' for result in res['results']]\n",
    "\n",
    "    #Create text variable with all text\n",
    "    text = [para[0].title() + para[1:] for para in text]\n",
    "    transcript = ''.join(text)\n",
    "    with open('output.txt', 'w') as out:\n",
    "        out.writelines(transcript)\n",
    "\n",
    "    return transcript\n",
    "\n",
    "all_text = transcribe_video(apikey,url,youtube_vid_url)\n",
    "all_text"
   ]
  },
  {
   "cell_type": "code",
   "execution_count": 98,
   "metadata": {},
   "outputs": [
    {
     "name": "stdout",
     "output_type": "stream",
     "text": [
      "The reality is.\n",
      "I mean it is like and I'm not being I'm not being flip about it like.\n",
      "I don't understand very complicated things.\n",
      "And so I ask a lot of questions so that the person who's telling me something complicated who's talking in terms of if I understand that Sir finance or neuroscience I don't know what you're talking about and asking of questions just so that I understand what you're saying this no that's what I'm saying well what are you though I I would most I mean I'll give you a perfect example so a long time ago I had a client they were %HESITATION %HESITATION %HESITATION.\n",
      "Public company and %HESITATION.\n",
      "They brought me on.\n",
      "%HESITATION.\n",
      "To do some work for them but the the.\n",
      "They invited me to sit in on a meeting from the console but they're hired.\n",
      "%HESITATION.\n",
      "And so all the C. level executives and me.\n",
      "And this.\n",
      "Something was giving a presentation about something related to your marketing this when I have my little marketing company and every all the C. level executives in there nodding and taking notes on the on the you know the power point that they had printed up in front of them and I had it is with this well and I didn't understand a friggin word of it yeah right I was like looking around like yeah I'm.\n",
      "That I because I raise my head is that I'm really really sorry I know I'm the only person in this room without an MBA but this doesn't make sense like you say eight plus B. equals C. but based on your logic it was because D. I. can you just say it again because I'm really really sorry to slow the meeting that everybody you know and you could see the consultant getting frustrated with me we're trying explain it again I said I am so sorry and one by one well the C. level executives said yeah I don't understand it either not the idiot hadn't spoken up yeah is that I understand they will would not at their head yeah for fear of looking stupid because they don't understand yeah and it would have the people paid a lot of money for talking and they don't understand and they would never use it what is that on the shelf.\n",
      "%HESITATION and it's it's because I'm I'm okay being the idiot like me that's why I'm not being flip I locate everybody in the room and %HESITATION because I have to ask questions until I understand it but the reality is is once I can get to the point where I understand it I get it so simple that I understand if I can say it in simple terms that means other people understand %HESITATION yeah so if there's a lot of value big media.\n",
      "\n"
     ]
    }
   ],
   "source": [
    "#split sentences into rows\n",
    "for filename in glob.glob('output.txt'):\n",
    "    fh = open(filename, 'r')\n",
    "    abstract = fh.read().split(':')[-1]\n",
    "    print(abstract)"
   ]
  },
  {
   "cell_type": "markdown",
   "metadata": {},
   "source": [
    "## 0. Install and Import Dependencies"
   ]
  },
  {
   "cell_type": "code",
   "execution_count": null,
   "metadata": {},
   "outputs": [],
   "source": [
    "# !pip3 install ibm_watson\n",
    "# !brew install ffmpeg\n",
    "# double click certificate file in your python directory if you get error downloading youtube videos"
   ]
  },
  {
   "cell_type": "markdown",
   "metadata": {},
   "source": [
    "## 1. Download some video\n",
    "### Optional if you already have a video file"
   ]
  },
  {
   "cell_type": "code",
   "execution_count": null,
   "metadata": {},
   "outputs": [],
   "source": [
    "!youtube-dl https://www.youtube.com/watch?v=BkLzo_oNVho"
   ]
  },
  {
   "cell_type": "markdown",
   "metadata": {},
   "source": [
    "## 2. Extract Audio"
   ]
  },
  {
   "cell_type": "code",
   "execution_count": 32,
   "metadata": {},
   "outputs": [
    {
     "data": {
      "text/plain": [
       "0"
      ]
     },
     "execution_count": 32,
     "metadata": {},
     "output_type": "execute_result"
    }
   ],
   "source": [
    "command = 'ffmpeg -i test_vid.mp4 -ab 160k -ar 44100 -vn audio1.wav'\n",
    "subprocess.call(command, shell=True)"
   ]
  },
  {
   "cell_type": "markdown",
   "metadata": {},
   "source": [
    "## 3. Setup STT Service"
   ]
  },
  {
   "cell_type": "code",
   "execution_count": 33,
   "metadata": {},
   "outputs": [],
   "source": [
    "apikey = 'input your api key'\n",
    "url = 'input your url'"
   ]
  },
  {
   "cell_type": "code",
   "execution_count": 34,
   "metadata": {},
   "outputs": [],
   "source": [
    "# Setup service\n",
    "authenticator = IAMAuthenticator(apikey)\n",
    "stt = SpeechToTextV1(authenticator=authenticator)\n",
    "stt.set_service_url(url)"
   ]
  },
  {
   "cell_type": "markdown",
   "metadata": {},
   "source": [
    "## 4. Open Audio Source and Convert"
   ]
  },
  {
   "cell_type": "code",
   "execution_count": 36,
   "metadata": {},
   "outputs": [],
   "source": [
    "with open('audio1.wav', 'rb') as f:\n",
    "    res = stt.recognize(audio=f, content_type='audio/wav', model='en-US_NarrowbandModel', continuous=True).get_result()"
   ]
  },
  {
   "cell_type": "code",
   "execution_count": 37,
   "metadata": {
    "scrolled": true
   },
   "outputs": [
    {
     "data": {
      "text/plain": [
       "{'result_index': 0,\n",
       " 'results': [{'final': True,\n",
       "   'alternatives': [{'transcript': 'the reality is ', 'confidence': 0.89}]},\n",
       "  {'final': True,\n",
       "   'alternatives': [{'transcript': \"I mean it is like and I'm not being I'm not being flip about it like \",\n",
       "     'confidence': 0.86}]},\n",
       "  {'final': True,\n",
       "   'alternatives': [{'transcript': \"I don't understand very complicated things \",\n",
       "     'confidence': 0.91}]},\n",
       "  {'final': True,\n",
       "   'alternatives': [{'transcript': \"and so I ask a lot of questions so that the person who's telling me something complicated who's talking in terms of if I understand that Sir finance or neuroscience I don't know what you're talking about and asking of questions just so that I understand what you're saying this no that's what I'm saying well what are you though I I would most I mean I'll give you a perfect example so a long time ago I had a client they were %HESITATION %HESITATION %HESITATION \",\n",
       "     'confidence': 0.86}]},\n",
       "  {'final': True,\n",
       "   'alternatives': [{'transcript': 'public company and %HESITATION ',\n",
       "     'confidence': 0.95}]},\n",
       "  {'final': True,\n",
       "   'alternatives': [{'transcript': 'they brought me on ',\n",
       "     'confidence': 0.99}]},\n",
       "  {'final': True,\n",
       "   'alternatives': [{'transcript': '%HESITATION ', 'confidence': 0.88}]},\n",
       "  {'final': True,\n",
       "   'alternatives': [{'transcript': 'to do some work for them but the the ',\n",
       "     'confidence': 0.89}]},\n",
       "  {'final': True,\n",
       "   'alternatives': [{'transcript': \"they invited me to sit in on a meeting from the console but they're hired \",\n",
       "     'confidence': 0.8}]},\n",
       "  {'final': True,\n",
       "   'alternatives': [{'transcript': '%HESITATION ', 'confidence': 0.99}]},\n",
       "  {'final': True,\n",
       "   'alternatives': [{'transcript': 'and so all the C. level executives and me ',\n",
       "     'confidence': 0.83}]},\n",
       "  {'final': True,\n",
       "   'alternatives': [{'transcript': 'and this ', 'confidence': 0.79}]},\n",
       "  {'final': True,\n",
       "   'alternatives': [{'transcript': \"something was giving a presentation about something related to your marketing this when I have my little marketing company and every all the C. level executives in there nodding and taking notes on the on the you know the power point that they had printed up in front of them and I had it is with this well and I didn't understand a friggin word of it yeah right I was like looking around like yeah I'm \",\n",
       "     'confidence': 0.82}]},\n",
       "  {'final': True,\n",
       "   'alternatives': [{'transcript': \"that I because I raise my head is that I'm really really sorry I know I'm the only person in this room without an MBA but this doesn't make sense like you say eight plus B. equals C. but based on your logic it was because D. I. can you just say it again because I'm really really sorry to slow the meeting that everybody you know and you could see the consultant getting frustrated with me we're trying explain it again I said I am so sorry and one by one well the C. level executives said yeah I don't understand it either not the idiot hadn't spoken up yeah is that I understand they will would not at their head yeah for fear of looking stupid because they don't understand yeah and it would have the people paid a lot of money for talking and they don't understand and they would never use it what is that on the shelf \",\n",
       "     'confidence': 0.77}]},\n",
       "  {'final': True,\n",
       "   'alternatives': [{'transcript': \"%HESITATION and it's it's because I'm I'm okay being the idiot like me that's why I'm not being flip I locate everybody in the room and %HESITATION because I have to ask questions until I understand it but the reality is is once I can get to the point where I understand it I get it so simple that I understand if I can say it in simple terms that means other people understand %HESITATION yeah so if there's a lot of value big media \",\n",
       "     'confidence': 0.84}]}]}"
      ]
     },
     "execution_count": 37,
     "metadata": {},
     "output_type": "execute_result"
    }
   ],
   "source": [
    "res"
   ]
  },
  {
   "cell_type": "markdown",
   "metadata": {},
   "source": [
    "## 5. Process Results and Output to Text"
   ]
  },
  {
   "cell_type": "code",
   "execution_count": 38,
   "metadata": {},
   "outputs": [
    {
     "data": {
      "text/plain": [
       "15"
      ]
     },
     "execution_count": 38,
     "metadata": {},
     "output_type": "execute_result"
    }
   ],
   "source": [
    "len(res['results'])"
   ]
  },
  {
   "cell_type": "code",
   "execution_count": 39,
   "metadata": {},
   "outputs": [],
   "source": [
    "text = [result['alternatives'][0]['transcript'].rstrip() + '.\\n' for result in res['results']]"
   ]
  },
  {
   "cell_type": "code",
   "execution_count": 40,
   "metadata": {},
   "outputs": [],
   "source": [
    "text = [para[0].title() + para[1:] for para in text]\n",
    "transcript = ''.join(text)\n",
    "with open('output.txt', 'w') as out:\n",
    "    out.writelines(transcript)"
   ]
  },
  {
   "cell_type": "code",
   "execution_count": 41,
   "metadata": {},
   "outputs": [
    {
     "data": {
      "text/plain": [
       "\"The reality is.\\nI mean it is like and I'm not being I'm not being flip about it like.\\nI don't understand very complicated things.\\nAnd so I ask a lot of questions so that the person who's telling me something complicated who's talking in terms of if I understand that Sir finance or neuroscience I don't know what you're talking about and asking of questions just so that I understand what you're saying this no that's what I'm saying well what are you though I I would most I mean I'll give you a perfect example so a long time ago I had a client they were %HESITATION %HESITATION %HESITATION.\\nPublic company and %HESITATION.\\nThey brought me on.\\n%HESITATION.\\nTo do some work for them but the the.\\nThey invited me to sit in on a meeting from the console but they're hired.\\n%HESITATION.\\nAnd so all the C. level executives and me.\\nAnd this.\\nSomething was giving a presentation about something related to your marketing this when I have my little marketing company and every all the C. level executives in there nodding and taking notes on the on the you know the power point that they had printed up in front of them and I had it is with this well and I didn't understand a friggin word of it yeah right I was like looking around like yeah I'm.\\nThat I because I raise my head is that I'm really really sorry I know I'm the only person in this room without an MBA but this doesn't make sense like you say eight plus B. equals C. but based on your logic it was because D. I. can you just say it again because I'm really really sorry to slow the meeting that everybody you know and you could see the consultant getting frustrated with me we're trying explain it again I said I am so sorry and one by one well the C. level executives said yeah I don't understand it either not the idiot hadn't spoken up yeah is that I understand they will would not at their head yeah for fear of looking stupid because they don't understand yeah and it would have the people paid a lot of money for talking and they don't understand and they would never use it what is that on the shelf.\\n%HESITATION and it's it's because I'm I'm okay being the idiot like me that's why I'm not being flip I locate everybody in the room and %HESITATION because I have to ask questions until I understand it but the reality is is once I can get to the point where I understand it I get it so simple that I understand if I can say it in simple terms that means other people understand %HESITATION yeah so if there's a lot of value big media.\\n\""
      ]
     },
     "execution_count": 41,
     "metadata": {},
     "output_type": "execute_result"
    }
   ],
   "source": [
    "transcript"
   ]
  }
 ],
 "metadata": {
  "kernelspec": {
   "display_name": "Python 3",
   "language": "python",
   "name": "python3"
  },
  "language_info": {
   "codemirror_mode": {
    "name": "ipython",
    "version": 3
   },
   "file_extension": ".py",
   "mimetype": "text/x-python",
   "name": "python",
   "nbconvert_exporter": "python",
   "pygments_lexer": "ipython3",
   "version": "3.9.1"
  }
 },
 "nbformat": 4,
 "nbformat_minor": 2
}
